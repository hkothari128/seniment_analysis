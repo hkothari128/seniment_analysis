{
 "cells": [
  {
   "cell_type": "code",
   "execution_count": 3,
   "metadata": {},
   "outputs": [
    {
     "name": "stdout",
     "output_type": "stream",
     "text": [
      "it {'neg_score': '0', 'pos_score': '0'}\n",
      "okay {'neg_score': '0', 'pos_score': '0.375'}\n",
      "0.375 0.0\n"
     ]
    },
    {
     "data": {
      "text/plain": [
       "(0.38, 0.0)"
      ]
     },
     "execution_count": 3,
     "metadata": {},
     "output_type": "execute_result"
    }
   ],
   "source": [
    "import word_score\n",
    "text=\"It was okay\"\n",
    "score=word_score.get_tuple(text)\n",
    "score"
   ]
  },
  {
   "cell_type": "code",
   "execution_count": 4,
   "metadata": {},
   "outputs": [
    {
     "data": {
      "text/plain": [
       "[['pos_score', 'neg_score', 'class'],\n",
       " [[0.0, 0.75], [1.0, 1.5], 'b'],\n",
       " [[0.0, 0.75], [0.5, 1.0], 'b'],\n",
       " [[0.0, 0.75], [0.5, 1.0], 'b'],\n",
       " [[0.0, 0.75], [0.5, 1.0], 'b'],\n",
       " [[0.0, 0.75], [1.5, 2.0], 'b'],\n",
       " [[1.5, 2.25], [0.0, 0.5], 'g'],\n",
       " [[0.75, 1.5], [0.5, 1.0], 'g'],\n",
       " [[0.75, 1.5], [0.0, 0.5], 'g'],\n",
       " [[1.5, 2.25], [0.0, 0.5], 'g'],\n",
       " [[0.75, 1.5], [0.0, 0.5], 'g'],\n",
       " [[2.25, 3.0], [0.0, 0.5], 'g'],\n",
       " [[0.0, 0.75], [0.0, 0.5], 'n'],\n",
       " [[0.0, 0.75], [0.0, 0.5], 'n'],\n",
       " [[0.0, 0.75], [0.5, 1.0], 'n'],\n",
       " [[0.0, 0.75], [0.5, 1.0], 'n'],\n",
       " [[0.0, 0.75], [0.0, 0.5], 'n']]"
      ]
     },
     "execution_count": 4,
     "metadata": {},
     "output_type": "execute_result"
    }
   ],
   "source": [
    "import csv\n",
    "rulebase=[]\n",
    "with open(\"nominal_rulebase.csv\") as csv_file:\n",
    "    reader=csv.reader(csv_file)\n",
    "    rulebase.append(next(reader))\n",
    "    for row in reader:\n",
    "        c=row[-1]\n",
    "        \n",
    "        row=[[float(i) for i in val.split('[')[1].split(']')[0].split(',')] for val in row[:-1]]+[row[-1]]\n",
    "        rulebase.append(row)\n",
    "rulebase[:]"
   ]
  },
  {
   "cell_type": "code",
   "execution_count": 5,
   "metadata": {},
   "outputs": [],
   "source": [
    "def get_prob(i,value,t):\n",
    "    count=0\n",
    "    hit=0\n",
    "    #print(\"\\n\\n\",i,value,t)\n",
    "    for row in rulebase[1:]:\n",
    "        #print(row[i],row[-1])\n",
    "        if row[-1]==t:\n",
    "            count+=1\n",
    "            #print('count:',count)\n",
    "        if row[-1]==t and row[i]==value:\n",
    "            hit+=1\n",
    "            #print('hit:',hit)\n",
    "    #print(round(float(hit/count),2))    \n",
    "    return round(float(hit/count),2)"
   ]
  },
  {
   "cell_type": "code",
   "execution_count": 6,
   "metadata": {},
   "outputs": [],
   "source": [
    "def prep_tuple(t):\n",
    "    result=[]\n",
    "    for i in range(len(t)):\n",
    "        values=[row[i] for row in rulebase[1:]]\n",
    "        for j in values:\n",
    "            if t[i]>=j[0] and t[i]<=j[1]:\n",
    "                result.append(j)\n",
    "                break\n",
    "    return result"
   ]
  },
  {
   "cell_type": "code",
   "execution_count": 15,
   "metadata": {},
   "outputs": [],
   "source": [
    "import pprint as pp\n",
    "def nb(tup):\n",
    "    targets=set([row[-1] for row in rulebase[1:]])\n",
    "    target_score={}\n",
    "    target_prob={}\n",
    "    #print(targets)\n",
    "    target_column=[row[-1] for row in rulebase[1:]]\n",
    "    for t in targets:\n",
    "        target_score[t]=0\n",
    "        target_prob[t]=float(target_column.count(t)/len(target_column))\n",
    "    \n",
    "    probs={}\n",
    "        \n",
    "    for i in range(len(rulebase[0][:-1])):\n",
    "        probs[i]={}\n",
    "        active=probs[i]\n",
    "        column=[row[i] for row in rulebase[1:]]\n",
    "        for value in column:\n",
    "            if str(value) not in active:\n",
    "                active[str(value)]={}\n",
    "            \n",
    "                for t in targets:\n",
    "                    active[str(value)][t]=get_prob(i,value,t)\n",
    "    #pp.pprint (probs)        \n",
    "    \n",
    "    \n",
    "    \n",
    "    #print(\"\\n\\n\",tup)\n",
    "    tup=prep_tuple(tup)\n",
    "    #print(\"\\n\\n\",tup)\n",
    "    for t in targets:\n",
    "        target_score[t]=target_prob[t]\n",
    "        for i in range(len(tup)):\n",
    "            target_score[t]*=probs[i][str(tup[i])][t]\n",
    "    \n",
    "    #print(target_score)\n",
    "    import operator\n",
    "    output=max(target_score.items(), key=operator.itemgetter(1))[0]\n",
    "    return output\n"
   ]
  },
  {
   "cell_type": "code",
   "execution_count": 16,
   "metadata": {},
   "outputs": [
    {
     "data": {
      "text/plain": [
       "'n'"
      ]
     },
     "execution_count": 16,
     "metadata": {},
     "output_type": "execute_result"
    }
   ],
   "source": [
    "nb(score)"
   ]
  },
  {
   "cell_type": "code",
   "execution_count": null,
   "metadata": {},
   "outputs": [],
   "source": []
  },
  {
   "cell_type": "code",
   "execution_count": null,
   "metadata": {},
   "outputs": [],
   "source": []
  },
  {
   "cell_type": "code",
   "execution_count": null,
   "metadata": {},
   "outputs": [],
   "source": []
  }
 ],
 "metadata": {
  "kernelspec": {
   "display_name": "Python 3",
   "language": "python",
   "name": "python3"
  },
  "language_info": {
   "codemirror_mode": {
    "name": "ipython",
    "version": 3
   },
   "file_extension": ".py",
   "mimetype": "text/x-python",
   "name": "python",
   "nbconvert_exporter": "python",
   "pygments_lexer": "ipython3",
   "version": "3.6.5"
  }
 },
 "nbformat": 4,
 "nbformat_minor": 2
}
