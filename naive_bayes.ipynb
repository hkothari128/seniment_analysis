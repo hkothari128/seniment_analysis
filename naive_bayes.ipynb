{
 "cells": [
  {
   "cell_type": "code",
   "execution_count": 1,
   "metadata": {},
   "outputs": [
    {
     "data": {
      "text/plain": [
       "(0.58, 0.0)"
      ]
     },
     "execution_count": 1,
     "metadata": {},
     "output_type": "execute_result"
    }
   ],
   "source": [
    "import word_score\n",
    "text=\"It was very good\"\n",
    "score=word_score.get_tuple(text)\n",
    "score"
   ]
  },
  {
   "cell_type": "code",
   "execution_count": 2,
   "metadata": {},
   "outputs": [
    {
     "data": {
      "text/plain": [
       "[['pos_score', 'neg_score', 'class'],\n",
       " [[0.28, 0.42000000000000004], [0.0, 0.125], 'g'],\n",
       " [[0.28, 0.42000000000000004], [0.0, 0.125], 'g'],\n",
       " [[0.14, 0.28], [0.0, 0.125], 'g'],\n",
       " [[0.42000000000000004, 0.56], [0.0, 0.125], 'g'],\n",
       " [[0.42000000000000004, 0.56], [0.125, 0.25], 'g'],\n",
       " [[0.42000000000000004, 0.56], [0.0, 0.125], 'g'],\n",
       " [[0.42000000000000004, 0.56], [0.0, 0.125], 'g'],\n",
       " [[0.14, 0.28], [0.0, 0.125], 'g'],\n",
       " [[0.28, 0.42000000000000004], [0.0, 0.125], 'g'],\n",
       " [[0.28, 0.42000000000000004], [0.125, 0.25], 'g'],\n",
       " [[0.28, 0.42000000000000004], [0.0, 0.125], 'g'],\n",
       " [[0.28, 0.42000000000000004], [0.0, 0.125], 'g'],\n",
       " [[0.0, 0.14], [0.125, 0.25], 'b'],\n",
       " [[0.0, 0.14], [0.25, 0.375], 'b'],\n",
       " [[0.0, 0.14], [0.375, 0.5], 'b'],\n",
       " [[0.0, 0.14], [0.125, 0.25], 'b'],\n",
       " [[0.0, 0.14], [0.125, 0.25], 'b'],\n",
       " [[0.0, 0.14], [0.25, 0.375], 'b'],\n",
       " [[0.14, 0.28], [0.25, 0.375], 'b'],\n",
       " [[0.0, 0.14], [0.125, 0.25], 'b'],\n",
       " [[0.0, 0.14], [0.375, 0.5], 'b'],\n",
       " [[0.0, 0.14], [0.25, 0.375], 'b'],\n",
       " [[0.0, 0.14], [0.25, 0.375], 'b'],\n",
       " [[0.14, 0.28], [0.25, 0.375], 'b'],\n",
       " [[0.0, 0.14], [0.25, 0.375], 'b'],\n",
       " [[0.0, 0.14], [0.25, 0.375], 'b'],\n",
       " [[0.14, 0.28], [0.25, 0.375], 'b'],\n",
       " [[0.0, 0.14], [0.25, 0.375], 'b'],\n",
       " [[0.0, 0.14], [0.25, 0.375], 'b'],\n",
       " [[0.0, 0.14], [0.0, 0.125], 'n'],\n",
       " [[0.0, 0.14], [0.0, 0.125], 'n'],\n",
       " [[0.0, 0.14], [0.125, 0.25], 'n'],\n",
       " [[0.0, 0.14], [0.0, 0.125], 'n'],\n",
       " [[0.14, 0.28], [0.0, 0.125], 'n'],\n",
       " [[0.14, 0.28], [0.0, 0.125], 'n'],\n",
       " [[0.14, 0.28], [0.0, 0.125], 'n'],\n",
       " [[0.14, 0.28], [0.125, 0.25], 'n'],\n",
       " [[0.0, 0.14], [0.125, 0.25], 'n'],\n",
       " [[0.14, 0.28], [0.0, 0.125], 'n'],\n",
       " [[0.0, 0.14], [0.0, 0.125], 'n'],\n",
       " [[0.0, 0.14], [0.0, 0.125], 'n'],\n",
       " [[0.14, 0.28], [0.0, 0.125], 'n'],\n",
       " [[0.0, 0.14], [0.0, 0.125], 'n'],\n",
       " [[0.0, 0.14], [0.0, 0.125], 'n'],\n",
       " [[0.14, 0.28], [0.0, 0.125], 'n'],\n",
       " [[0.14, 0.28], [0.0, 0.125], 'n'],\n",
       " [[0.14, 0.28], [0.0, 0.125], 'n'],\n",
       " [[0.14, 0.28], [0.125, 0.25], 'n'],\n",
       " [[0.0, 0.14], [0.0, 0.125], 'n'],\n",
       " [[0.14, 0.28], [0.0, 0.125], 'n']]"
      ]
     },
     "execution_count": 2,
     "metadata": {},
     "output_type": "execute_result"
    }
   ],
   "source": [
    "import csv\n",
    "rulebase=[]\n",
    "with open(\"nominal_rulebase.csv\") as csv_file:\n",
    "    reader=csv.reader(csv_file)\n",
    "    rulebase.append(next(reader))\n",
    "    for row in reader:\n",
    "        c=row[-1]\n",
    "        \n",
    "        row=[[float(i) for i in val.split('[')[1].split(']')[0].split(',')] for val in row[:-1]]+[row[-1]]\n",
    "        rulebase.append(row)\n",
    "rulebase[:]"
   ]
  },
  {
   "cell_type": "code",
   "execution_count": 11,
   "metadata": {},
   "outputs": [],
   "source": [
    "def get_prob(i,value,t):\n",
    "    count=0\n",
    "    hit=0\n",
    "    #print(\"\\n\\n\",i,value,t)\n",
    "    for row in rulebase[1:]:\n",
    "        #print(row[i],row[-1])\n",
    "        if row[-1]==t:\n",
    "            count+=1\n",
    "            #print('count:',count)\n",
    "        if row[-1]==t and row[i]==value:\n",
    "            hit+=1\n",
    "    print(\"i:\",i,'value:',value,\"class:\",t,'hit:',hit)\n",
    "    #print(round(float(hit/count),2))    \n",
    "    return round(float(hit/count),2)"
   ]
  },
  {
   "cell_type": "code",
   "execution_count": 12,
   "metadata": {},
   "outputs": [],
   "source": [
    "def prep_tuple(t):\n",
    "    result=[]\n",
    "    for i in range(len(t)):\n",
    "        values=[row[i] for row in rulebase[1:]]\n",
    "        values.sort()\n",
    "        #print (\"\\n\",values)\n",
    "        if t[i]>values[-1][1]:\n",
    "            result.append(values[-1])\n",
    "            continue\n",
    "        for j in values:\n",
    "            if t[i]>=j[0] and t[i]<=j[1]:\n",
    "                #print(j,\"\\n\\n\")\n",
    "                result.append(j)\n",
    "                break\n",
    "            \n",
    "    return result"
   ]
  },
  {
   "cell_type": "code",
   "execution_count": 13,
   "metadata": {},
   "outputs": [],
   "source": [
    "import pprint as pp\n",
    "def nb(tup):\n",
    "    targets=set([row[-1] for row in rulebase[1:]])\n",
    "    target_score={}\n",
    "    target_prob={}\n",
    "    #print(targets)\n",
    "    target_column=[row[-1] for row in rulebase[1:]]\n",
    "    for t in targets:\n",
    "        target_score[t]=0\n",
    "        target_prob[t]=float(target_column.count(t)/len(target_column))\n",
    "    \n",
    "    probs={}\n",
    "        \n",
    "    for i in range(len(rulebase[0][:-1])):\n",
    "        probs[i]={}\n",
    "        active=probs[i]\n",
    "        column=[row[i] for row in rulebase[1:]]\n",
    "        for value in column:\n",
    "            if str(value) not in active:\n",
    "                active[str(value)]={}\n",
    "            \n",
    "                for t in targets:\n",
    "                    active[str(value)][t]=get_prob(i,value,t)\n",
    "    pp.pprint (probs)        \n",
    "    \n",
    "    \n",
    "    \n",
    "    #print(\"\\n\\n\",tup)\n",
    "    tup=prep_tuple(tup)\n",
    "    \n",
    "    #print(\"\\n\\n\",tup)\n",
    "    for t in targets:\n",
    "        target_score[t]=target_prob[t]\n",
    "        for i in range(len(tup)):\n",
    "            target_score[t]*=probs[i][str(tup[i])][t]\n",
    "    \n",
    "    #print(target_score)\n",
    "    import operator\n",
    "    output=max(target_score.items(), key=operator.itemgetter(1))[0]\n",
    "    return output\n"
   ]
  },
  {
   "cell_type": "code",
   "execution_count": 14,
   "metadata": {},
   "outputs": [
    {
     "name": "stdout",
     "output_type": "stream",
     "text": [
      "i: 0 value: [0.28, 0.42000000000000004] class: g hit: 6\n",
      "i: 0 value: [0.28, 0.42000000000000004] class: b hit: 0\n",
      "i: 0 value: [0.28, 0.42000000000000004] class: n hit: 0\n",
      "i: 0 value: [0.14, 0.28] class: g hit: 2\n",
      "i: 0 value: [0.14, 0.28] class: b hit: 3\n",
      "i: 0 value: [0.14, 0.28] class: n hit: 11\n",
      "i: 0 value: [0.42000000000000004, 0.56] class: g hit: 4\n",
      "i: 0 value: [0.42000000000000004, 0.56] class: b hit: 0\n",
      "i: 0 value: [0.42000000000000004, 0.56] class: n hit: 0\n",
      "i: 0 value: [0.0, 0.14] class: g hit: 0\n",
      "i: 0 value: [0.0, 0.14] class: b hit: 14\n",
      "i: 0 value: [0.0, 0.14] class: n hit: 10\n",
      "i: 1 value: [0.0, 0.125] class: g hit: 10\n",
      "i: 1 value: [0.0, 0.125] class: b hit: 0\n",
      "i: 1 value: [0.0, 0.125] class: n hit: 17\n",
      "i: 1 value: [0.125, 0.25] class: g hit: 2\n",
      "i: 1 value: [0.125, 0.25] class: b hit: 4\n",
      "i: 1 value: [0.125, 0.25] class: n hit: 4\n",
      "i: 1 value: [0.25, 0.375] class: g hit: 0\n",
      "i: 1 value: [0.25, 0.375] class: b hit: 11\n",
      "i: 1 value: [0.25, 0.375] class: n hit: 0\n",
      "i: 1 value: [0.375, 0.5] class: g hit: 0\n",
      "i: 1 value: [0.375, 0.5] class: b hit: 2\n",
      "i: 1 value: [0.375, 0.5] class: n hit: 0\n",
      "{0: {'[0.0, 0.14]': {'b': 0.82, 'g': 0.0, 'n': 0.48},\n",
      "     '[0.14, 0.28]': {'b': 0.18, 'g': 0.17, 'n': 0.52},\n",
      "     '[0.28, 0.42000000000000004]': {'b': 0.0, 'g': 0.5, 'n': 0.0},\n",
      "     '[0.42000000000000004, 0.56]': {'b': 0.0, 'g': 0.33, 'n': 0.0}},\n",
      " 1: {'[0.0, 0.125]': {'b': 0.0, 'g': 0.83, 'n': 0.81},\n",
      "     '[0.125, 0.25]': {'b': 0.24, 'g': 0.17, 'n': 0.19},\n",
      "     '[0.25, 0.375]': {'b': 0.65, 'g': 0.0, 'n': 0.0},\n",
      "     '[0.375, 0.5]': {'b': 0.12, 'g': 0.0, 'n': 0.0}}}\n"
     ]
    },
    {
     "data": {
      "text/plain": [
       "'g'"
      ]
     },
     "execution_count": 14,
     "metadata": {},
     "output_type": "execute_result"
    }
   ],
   "source": [
    "nb(score)"
   ]
  },
  {
   "cell_type": "code",
   "execution_count": null,
   "metadata": {},
   "outputs": [],
   "source": []
  },
  {
   "cell_type": "code",
   "execution_count": null,
   "metadata": {},
   "outputs": [],
   "source": []
  },
  {
   "cell_type": "code",
   "execution_count": null,
   "metadata": {},
   "outputs": [],
   "source": []
  }
 ],
 "metadata": {
  "kernelspec": {
   "display_name": "Python 3",
   "language": "python",
   "name": "python3"
  },
  "language_info": {
   "codemirror_mode": {
    "name": "ipython",
    "version": 3
   },
   "file_extension": ".py",
   "mimetype": "text/x-python",
   "name": "python",
   "nbconvert_exporter": "python",
   "pygments_lexer": "ipython3",
   "version": "3.6.5"
  }
 },
 "nbformat": 4,
 "nbformat_minor": 2
}
