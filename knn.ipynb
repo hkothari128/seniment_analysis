{
 "cells": [
  {
   "cell_type": "code",
   "execution_count": 51,
   "metadata": {},
   "outputs": [
    {
     "name": "stdout",
     "output_type": "stream",
     "text": [
      "it {'neg_score': '0', 'pos_score': '0'}\n",
      "okay {'neg_score': '0', 'pos_score': '0.375'}\n"
     ]
    },
    {
     "data": {
      "text/plain": [
       "[0.38, 0.0]"
      ]
     },
     "execution_count": 51,
     "metadata": {},
     "output_type": "execute_result"
    }
   ],
   "source": [
    "import word_score\n",
    "import modules\n",
    "text=\"It was okay\"\n",
    "score=word_score.get_tuple(text)\n",
    "score=list(score)\n",
    "score"
   ]
  },
  {
   "cell_type": "code",
   "execution_count": 52,
   "metadata": {},
   "outputs": [
    {
     "data": {
      "text/plain": [
       "[['pos_score', 'neg_score', 'class'],\n",
       " [0.25, 1.38, 'b'],\n",
       " [0.25, 0.75, 'b'],\n",
       " [0.25, 0.75, 'b'],\n",
       " [0.0, 0.88, 'b'],\n",
       " [0.25, 2.0, 'b'],\n",
       " [1.5, 0.0, 'g'],\n",
       " [1.25, 0.62, 'g'],\n",
       " [1.12, 0.12, 'g'],\n",
       " [1.62, 0.25, 'g'],\n",
       " [1.0, 0.0, 'g'],\n",
       " [3.0, 0.0, 'g'],\n",
       " [0.38, 0.25, 'n'],\n",
       " [0.38, 0.0, 'n'],\n",
       " [0.38, 0.62, 'n'],\n",
       " [0.0, 0.5, 'n'],\n",
       " [0.62, 0.0, 'n']]"
      ]
     },
     "execution_count": 52,
     "metadata": {},
     "output_type": "execute_result"
    }
   ],
   "source": [
    "import csv\n",
    "rulebase=[]\n",
    "with open(\"rulebase.csv\") as csv_file:\n",
    "    reader=csv.reader(csv_file)\n",
    "    rulebase.append(next(reader))\n",
    "    for row in reader:\n",
    "        c=row[-1]\n",
    "        row=[float(val) for val in row[:-1]]+[row[-1]]\n",
    "        rulebase.append(row)\n",
    "rulebase[:]"
   ]
  },
  {
   "cell_type": "code",
   "execution_count": 53,
   "metadata": {},
   "outputs": [],
   "source": [
    "neighbours=[]\n",
    "def knn(k):\n",
    "    \n",
    "    output=None\n",
    "    distance={}\n",
    "    for i in range(len(rulebase[1:])):\n",
    "        p1=rulebase[i+1][:-1]\n",
    "        \n",
    "        distance[i+1]=round(modules.distance(len(p1),p1,score),2)\n",
    "    #print(distance,\"\\n\")\n",
    "    distance = sorted(distance.items(), key=lambda x: x[1])\n",
    "    \n",
    "    #print(distance,\"\\n\")\n",
    "    distance=distance[:k]\n",
    "    print(distance,\"\\n\")\n",
    "    global neighbours\n",
    "    neighbours=[rulebase[i[0]][:-1] for i in distance]\n",
    "    print(neighbours)\n",
    "    g_count=b_count=n_count=0\n",
    "    \n",
    "    for i in distance:\n",
    "        if rulebase[i[0]][-1]=='g':\n",
    "            g_count+=1\n",
    "        elif rulebase[i[0]][-1]=='b':\n",
    "            b_count+=1\n",
    "        elif rulebase[i[0]][-1]=='n':\n",
    "            n_count+=1\n",
    "       \n",
    "        if(g_count== max(g_count,b_count,n_count)):\n",
    "            output='g'\n",
    "        if(b_count== max(g_count,b_count,n_count)):\n",
    "            output='b'\n",
    "       \n",
    "        if(n_count== max(g_count,b_count,n_count)):\n",
    "            output='n'\n",
    "    print(\"output:\", output)"
   ]
  },
  {
   "cell_type": "code",
   "execution_count": 54,
   "metadata": {},
   "outputs": [
    {
     "name": "stdout",
     "output_type": "stream",
     "text": [
      "[0.25, 1.38] [0.38, 0.0]\n",
      "[0.25, 0.75] [0.38, 0.0]\n",
      "[0.25, 0.75] [0.38, 0.0]\n",
      "[0.0, 0.88] [0.38, 0.0]\n",
      "[0.25, 2.0] [0.38, 0.0]\n",
      "[1.5, 0.0] [0.38, 0.0]\n",
      "[1.25, 0.62] [0.38, 0.0]\n",
      "[1.12, 0.12] [0.38, 0.0]\n",
      "[1.62, 0.25] [0.38, 0.0]\n",
      "[1.0, 0.0] [0.38, 0.0]\n",
      "[3.0, 0.0] [0.38, 0.0]\n",
      "[0.38, 0.25] [0.38, 0.0]\n",
      "[0.38, 0.0] [0.38, 0.0]\n",
      "[0.38, 0.62] [0.38, 0.0]\n",
      "[0.0, 0.5] [0.38, 0.0]\n",
      "[0.62, 0.0] [0.38, 0.0]\n",
      "[(13, 0.0), (16, 0.24), (12, 0.25), (10, 0.62)] \n",
      "\n",
      "[[0.38, 0.0], [0.62, 0.0], [0.38, 0.25], [1.0, 0.0]]\n",
      "output: n\n"
     ]
    }
   ],
   "source": [
    "knn(4)\n"
   ]
  },
  {
   "cell_type": "code",
   "execution_count": 55,
   "metadata": {},
   "outputs": [
    {
     "data": {
      "text/plain": [
       "([(1.5, 0.0),\n",
       "  (1.25, 0.62),\n",
       "  (1.12, 0.12),\n",
       "  (1.62, 0.25),\n",
       "  (1.0, 0.0),\n",
       "  (3.0, 0.0)],\n",
       " [(0.25, 1.38), (0.25, 0.75), (0.25, 0.75), (0.0, 0.88), (0.25, 2.0)],\n",
       " [(0.38, 0.25), (0.38, 0.0), (0.38, 0.62), (0.0, 0.5), (0.62, 0.0)],\n",
       " [[0.38, 0.0], [0.62, 0.0], [0.38, 0.25], [1.0, 0.0]])"
      ]
     },
     "execution_count": 55,
     "metadata": {},
     "output_type": "execute_result"
    }
   ],
   "source": [
    "\n",
    "g=[tuple(row[:-1]) for row in rulebase if row[-1]=='g']\n",
    "b=[tuple(row[:-1]) for row in rulebase if row[-1]=='b']\n",
    "n=[tuple(row[:-1]) for row in rulebase if row[-1]=='n']\n",
    "g,b,n,neighbours"
   ]
  },
  {
   "cell_type": "code",
   "execution_count": 56,
   "metadata": {},
   "outputs": [
    {
     "data": {
      "text/plain": [
       "<matplotlib.legend.Legend at 0x7efc84e74ba8>"
      ]
     },
     "execution_count": 56,
     "metadata": {},
     "output_type": "execute_result"
    },
    {
     "data": {
      "image/png": "[encoded data removed]",
      "text/plain": [
       "<Figure size 1080x720 with 1 Axes>"
      ]
     },
     "metadata": {},
     "output_type": "display_data"
    }
   ],
   "source": [
    "colors=[\"#0000FF\", \"#00FF00\", \"#FF0066\"]\n",
    "\n",
    "%matplotlib inline\n",
    "from matplotlib import pyplot as plt\n",
    "from mpl_toolkits.mplot3d import Axes3D\n",
    "import random\n",
    "fig = pyplot.figure(figsize=(15,10))\n",
    "#ax = fig.add_subplot(111, projection='3d')\n",
    "score=[score]\n",
    "if len(g)>0:\n",
    "    plt.scatter(*zip(*g),label='g',color=\"red\")\n",
    "if len(b)>0:\n",
    "    plt.scatter(*zip(*b),label='b',color=\"blue\")\n",
    "if len(n)>0:\n",
    "    plt.scatter(*zip(*n),label='n',color=\"green\")\n",
    "plt.scatter(*zip(*neighbours),label='neighbours',marker='x',color=\"black\",s=50)\n",
    "plt.scatter(*zip(*score),label=\"new point\",color=\"yellow\")\n",
    "\n",
    "#ax.scatter(0,0,10,marker='x')\n",
    "plt.xlim(-0.5, 3)\n",
    "plt.ylim(-0.5, 3)\n",
    "\n",
    "plt.legend()"
   ]
  },
  {
   "cell_type": "code",
   "execution_count": null,
   "metadata": {},
   "outputs": [],
   "source": []
  },
  {
   "cell_type": "code",
   "execution_count": null,
   "metadata": {},
   "outputs": [],
   "source": []
  }
 ],
 "metadata": {
  "kernelspec": {
   "display_name": "Python 3",
   "language": "python",
   "name": "python3"
  },
  "language_info": {
   "codemirror_mode": {
    "name": "ipython",
    "version": 3
   },
   "file_extension": ".py",
   "mimetype": "text/x-python",
   "name": "python",
   "nbconvert_exporter": "python",
   "pygments_lexer": "ipython3",
   "version": "3.6.5"
  }
 },
 "nbformat": 4,
 "nbformat_minor": 2
}
