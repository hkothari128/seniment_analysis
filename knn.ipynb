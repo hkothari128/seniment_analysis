{
 "cells": [
  {
   "cell_type": "code",
   "execution_count": 2,
   "metadata": {},
   "outputs": [
    {
     "data": {
      "text/plain": [
       "[0.25, 0.75]"
      ]
     },
     "execution_count": 2,
     "metadata": {},
     "output_type": "execute_result"
    }
   ],
   "source": [
    "import word_score\n",
    "import modules\n",
    "text=\"it was very bad\"\n",
    "score=word_score.get_tuple(text)\n",
    "score=list(score)\n",
    "score"
   ]
  },
  {
   "cell_type": "code",
   "execution_count": 3,
   "metadata": {},
   "outputs": [
    {
     "data": {
      "text/plain": [
       "[['pos_score', 'neg_score', 'class'],\n",
       " [0.38, 0.0, 'g'],\n",
       " [0.33, 0.05, 'g'],\n",
       " [0.25, 0.0, 'g'],\n",
       " [0.43, 0.0, 'g'],\n",
       " [0.44, 0.16, 'g'],\n",
       " [0.44, 0.0, 'g'],\n",
       " [0.56, 0.06, 'g'],\n",
       " [0.25, 0.0, 'g'],\n",
       " [0.31, 0.12, 'g'],\n",
       " [0.3, 0.21, 'g'],\n",
       " [0.28, 0.0, 'g'],\n",
       " [0.29, 0.08, 'g'],\n",
       " [0.04, 0.23, 'b'],\n",
       " [0.09, 0.27, 'b'],\n",
       " [0.0, 0.5, 'b'],\n",
       " [0.06, 0.19, 'b'],\n",
       " [0.0, 0.17, 'b'],\n",
       " [0.04, 0.29, 'b'],\n",
       " [0.25, 0.25, 'b'],\n",
       " [0.12, 0.2, 'b'],\n",
       " [0.06, 0.38, 'b'],\n",
       " [0.06, 0.25, 'b'],\n",
       " [0.1, 0.28, 'b'],\n",
       " [0.17, 0.25, 'b'],\n",
       " [0.07, 0.34, 'b'],\n",
       " [0.06, 0.31, 'b'],\n",
       " [0.14, 0.36, 'b'],\n",
       " [0.03, 0.25, 'b'],\n",
       " [0.0, 0.35, 'b'],\n",
       " [0.05, 0.04, 'n'],\n",
       " [0.06, 0.0, 'n'],\n",
       " [0.09, 0.16, 'n'],\n",
       " [0.04, 0.12, 'n'],\n",
       " [0.14, 0.02, 'n'],\n",
       " [0.21, 0.0, 'n'],\n",
       " [0.19, 0.06, 'n'],\n",
       " [0.23, 0.16, 'n'],\n",
       " [0.1, 0.15, 'n'],\n",
       " [0.15, 0.12, 'n'],\n",
       " [0.07, 0.07, 'n'],\n",
       " [0.04, 0.09, 'n'],\n",
       " [0.24, 0.05, 'n'],\n",
       " [0.04, 0.12, 'n'],\n",
       " [0.12, 0.12, 'n'],\n",
       " [0.15, 0.0, 'n'],\n",
       " [0.15, 0.0, 'n'],\n",
       " [0.17, 0.08, 'n'],\n",
       " [0.19, 0.16, 'n'],\n",
       " [0.03, 0.06, 'n'],\n",
       " [0.23, 0.04, 'n']]"
      ]
     },
     "execution_count": 3,
     "metadata": {},
     "output_type": "execute_result"
    }
   ],
   "source": [
    "import csv\n",
    "rulebase=[]\n",
    "with open(\"rulebase.csv\") as csv_file:\n",
    "    reader=csv.reader(csv_file)\n",
    "    rulebase.append(next(reader))\n",
    "    for row in reader:\n",
    "        c=row[-1]\n",
    "        row=[float(val) for val in row[:-1]]+[row[-1]]\n",
    "        rulebase.append(row)\n",
    "rulebase[:]"
   ]
  },
  {
   "cell_type": "code",
   "execution_count": 4,
   "metadata": {},
   "outputs": [],
   "source": [
    "neighbours=[]\n",
    "def knn(k,score):\n",
    "    \n",
    "    output=None\n",
    "    distance={}\n",
    "    for i in range(len(rulebase[1:])):\n",
    "        p1=rulebase[i+1][:-1]\n",
    "        \n",
    "        distance[i+1]=round(modules.distance(len(p1),p1,score),2)\n",
    "        #print(p1,score,distance[i+1])\n",
    "    \n",
    "    distance = sorted(distance.items(), key=lambda x: x[1])\n",
    "    \n",
    "   \n",
    "    distance=distance[:k]\n",
    "    #print(distance)\n",
    "    global neighbours\n",
    "    neighbours=[rulebase[i[0]][:-1] for i in distance]\n",
    "    \n",
    "    g_count=b_count=n_count=0\n",
    "    \n",
    "    for i in distance:\n",
    "        if rulebase[i[0]][-1]=='g':\n",
    "            g_count+=1\n",
    "        elif rulebase[i[0]][-1]=='b':\n",
    "            b_count+=1\n",
    "        elif rulebase[i[0]][-1]=='n':\n",
    "            n_count+=1\n",
    "    \n",
    "    if(g_count== max(g_count,b_count,n_count)):\n",
    "        output='g'\n",
    "    if(b_count== max(g_count,b_count,n_count)):\n",
    "        output='b'\n",
    "\n",
    "    if(n_count== max(g_count,b_count,n_count)):\n",
    "        output='n'\n",
    "    #print(g_count,b_count,n_count)        \n",
    "    return output"
   ]
  },
  {
   "cell_type": "code",
   "execution_count": 5,
   "metadata": {},
   "outputs": [
    {
     "data": {
      "text/plain": [
       "'b'"
      ]
     },
     "execution_count": 5,
     "metadata": {},
     "output_type": "execute_result"
    }
   ],
   "source": [
    "knn(4,score)\n"
   ]
  },
  {
   "cell_type": "code",
   "execution_count": 6,
   "metadata": {},
   "outputs": [
    {
     "data": {
      "text/plain": [
       "([(0.38, 0.0),\n",
       "  (0.33, 0.05),\n",
       "  (0.25, 0.0),\n",
       "  (0.43, 0.0),\n",
       "  (0.44, 0.16),\n",
       "  (0.44, 0.0),\n",
       "  (0.56, 0.06),\n",
       "  (0.25, 0.0),\n",
       "  (0.31, 0.12),\n",
       "  (0.3, 0.21),\n",
       "  (0.28, 0.0),\n",
       "  (0.29, 0.08)],\n",
       " [(0.04, 0.23),\n",
       "  (0.09, 0.27),\n",
       "  (0.0, 0.5),\n",
       "  (0.06, 0.19),\n",
       "  (0.0, 0.17),\n",
       "  (0.04, 0.29),\n",
       "  (0.25, 0.25),\n",
       "  (0.12, 0.2),\n",
       "  (0.06, 0.38),\n",
       "  (0.06, 0.25),\n",
       "  (0.1, 0.28),\n",
       "  (0.17, 0.25),\n",
       "  (0.07, 0.34),\n",
       "  (0.06, 0.31),\n",
       "  (0.14, 0.36),\n",
       "  (0.03, 0.25),\n",
       "  (0.0, 0.35)],\n",
       " [(0.05, 0.04),\n",
       "  (0.06, 0.0),\n",
       "  (0.09, 0.16),\n",
       "  (0.04, 0.12),\n",
       "  (0.14, 0.02),\n",
       "  (0.21, 0.0),\n",
       "  (0.19, 0.06),\n",
       "  (0.23, 0.16),\n",
       "  (0.1, 0.15),\n",
       "  (0.15, 0.12),\n",
       "  (0.07, 0.07),\n",
       "  (0.04, 0.09),\n",
       "  (0.24, 0.05),\n",
       "  (0.04, 0.12),\n",
       "  (0.12, 0.12),\n",
       "  (0.15, 0.0),\n",
       "  (0.15, 0.0),\n",
       "  (0.17, 0.08),\n",
       "  (0.19, 0.16),\n",
       "  (0.03, 0.06),\n",
       "  (0.23, 0.04)],\n",
       " [[0.0, 0.5], [0.14, 0.36], [0.06, 0.38], [0.07, 0.34]])"
      ]
     },
     "execution_count": 6,
     "metadata": {},
     "output_type": "execute_result"
    }
   ],
   "source": [
    "\n",
    "g=[tuple(row[:-1]) for row in rulebase if row[-1]=='g']\n",
    "b=[tuple(row[:-1]) for row in rulebase if row[-1]=='b']\n",
    "n=[tuple(row[:-1]) for row in rulebase if row[-1]=='n']\n",
    "g,b,n,neighbours"
   ]
  },
  {
   "cell_type": "code",
   "execution_count": 7,
   "metadata": {},
   "outputs": [],
   "source": [
    "score=[score]"
   ]
  },
  {
   "cell_type": "code",
   "execution_count": 11,
   "metadata": {},
   "outputs": [
    {
     "data": {
      "text/plain": [
       "<matplotlib.legend.Legend at 0x7f7919b01d30>"
      ]
     },
     "execution_count": 11,
     "metadata": {},
     "output_type": "execute_result"
    },
    {
     "data": {
      "image/png": "[encoded data removed]",
      "text/plain": [
       "<Figure size 1080x720 with 1 Axes>"
      ]
     },
     "metadata": {},
     "output_type": "display_data"
    }
   ],
   "source": [
    "colors=[\"#0000FF\", \"#00FF00\", \"#FF0066\"]\n",
    "\n",
    "%matplotlib inline\n",
    "from matplotlib import pyplot as plt\n",
    "from mpl_toolkits.mplot3d import Axes3D\n",
    "import random\n",
    "fig = plt.figure(figsize=(15,10))\n",
    "#ax = fig.add_subplot(111, projection='3d')\n",
    "plot = fig.add_subplot(111)\n",
    "if len(g)>0:\n",
    "    plt.scatter(*zip(*g),label='g',color=\"green\",s=100)\n",
    "if len(b)>0:\n",
    "    plt.scatter(*zip(*b),label='b',color=\"red\",s=100)\n",
    "if len(n)>0:\n",
    "    plt.scatter(*zip(*n),label='n',color=\"blue\",s=100)\n",
    "plt.scatter(*zip(*neighbours),label='neighbours',marker='^',color=\"black\",s=120)\n",
    "plt.scatter(*zip(*score),label=\"new point\",color=\"black\",s=100)\n",
    "\n",
    "#ax.scatter(0,0,10,marker='x')\n",
    "plt.xlim(-0.05, 1)\n",
    "plt.ylim(-0.05, 1)\n",
    "\n",
    "plt.setp(plot.get_xticklabels(), fontsize=20)\n",
    "plt.setp(plot.get_yticklabels(), fontsize=20)\n",
    "plt.legend(prop={'size': 25})"
   ]
  },
  {
   "cell_type": "code",
   "execution_count": null,
   "metadata": {},
   "outputs": [],
   "source": []
  },
  {
   "cell_type": "code",
   "execution_count": null,
   "metadata": {},
   "outputs": [],
   "source": []
  },
  {
   "cell_type": "code",
   "execution_count": null,
   "metadata": {},
   "outputs": [],
   "source": []
  },
  {
   "cell_type": "code",
   "execution_count": null,
   "metadata": {},
   "outputs": [],
   "source": []
  }
 ],
 "metadata": {
  "kernelspec": {
   "display_name": "Python 3",
   "language": "python",
   "name": "python3"
  },
  "language_info": {
   "codemirror_mode": {
    "name": "ipython",
    "version": 3
   },
   "file_extension": ".py",
   "mimetype": "text/x-python",
   "name": "python",
   "nbconvert_exporter": "python",
   "pygments_lexer": "ipython3",
   "version": "3.5.2"
  }
 },
 "nbformat": 4,
 "nbformat_minor": 2
}
