{
 "cells": [
  {
   "cell_type": "code",
   "execution_count": 1,
   "metadata": {
    "scrolled": true
   },
   "outputs": [
    {
     "name": "stdout",
     "output_type": "stream",
     "text": [
      "importing Jupyter notebook from knn.ipynb\n",
      "importing Jupyter notebook from naive_bayes.ipynb\n"
     ]
    },
    {
     "data": {
      "image/png": "[encoded data removed]",
      "text/plain": [
       "<Figure size 1080x720 with 1 Axes>"
      ]
     },
     "metadata": {},
     "output_type": "display_data"
    }
   ],
   "source": [
    "import import_ipynb\n",
    "import word_score\n",
    "from knn import *\n",
    "from naive_bayes import *\n",
    "analysis={}"
   ]
  },
  {
   "cell_type": "code",
   "execution_count": 10,
   "metadata": {
    "scrolled": true
   },
   "outputs": [
    {
     "data": {
      "text/plain": [
       "[['1', 'It was somewhat good and bad', 'n'],\n",
       " ['2', 'it was good.', 'g'],\n",
       " ['3', 'It was not good.', 'b'],\n",
       " ['4', 'It was perfect.', 'g'],\n",
       " ['5', 'uncool', 'b'],\n",
       " ['6',\n",
       "  'My concepts of the subject were solidified after taking this class.',\n",
       "  'n'],\n",
       " ['7', 'Superb class, will help very much in my future work.', 'n'],\n",
       " ['8', 'Teacher teaches well, but needs to communicate better', 'n'],\n",
       " ['9',\n",
       "  'Teacher is very lousy, doesn’t want to teach, doesn’t even show up to class most of the times.',\n",
       "  'b'],\n",
       " ['10', 'Assignments are too tedious making the course very stressful.', 'b'],\n",
       " ['11', 'Very few classes, therefore syllabus was not covered properly.', 'n'],\n",
       " ['12',\n",
       "  'Best class I’ve ever attended, teacher was very friendly and helpful. Overall excellent',\n",
       "  'g'],\n",
       " ['13',\n",
       "  'The assignments set by the teacher were very difficult and this decreased the class’s morale.',\n",
       "  'n'],\n",
       " ['14',\n",
       "  'Extremely difficult to focus in class, teacher makes everything boring and dull.',\n",
       "  'b'],\n",
       " ['15',\n",
       "  'The professor has been able to create a very positive learning atmosphere.',\n",
       "  'g'],\n",
       " ['16',\n",
       "  \"Very helpful professor, can approach him whenever needed, solves everyone's doubts.\",\n",
       "  'n'],\n",
       " ['17',\n",
       "  ' I am clueless about the subject, professor was not able to teach properly, and didn’t help in doubt clearance either.',\n",
       "  'b'],\n",
       " ['18',\n",
       "  'I really loved the class, it was exciting and I wanted more lectures, the professor was extremely brilliant.',\n",
       "  'g'],\n",
       " ['19',\n",
       "  'The presentations were very helpful, exceptional teaching by the professor.',\n",
       "  'g'],\n",
       " ['20',\n",
       "  'Definitely the best course I’ve taken this semester, the professor is really amazing and was dedicated to helping the students.',\n",
       "  'g'],\n",
       " ['21',\n",
       "  'Professor has no knowledge of subject, just reads out from presentations, I was not able to learn anything.',\n",
       "  'b'],\n",
       " ['22',\n",
       "  'Lectures are decent, but professor should make it more understandable by using more solved problems.',\n",
       "  'n'],\n",
       " ['23',\n",
       "  'I would not recommend this class, pretty uninformative, was not able to learn anything useful.',\n",
       "  'b'],\n",
       " ['24',\n",
       "  'Professor is one of the best in college, it was a great experience getting to work under him.',\n",
       "  'g'],\n",
       " ['25',\n",
       "  'Cool subject, great professor, this class was worth the time invested, I got to learn a lot of useful things.',\n",
       "  'n']]"
      ]
     },
     "execution_count": 10,
     "metadata": {},
     "output_type": "execute_result"
    }
   ],
   "source": [
    "import csv\n",
    "data=[]\n",
    "\n",
    "with open(\"test_set.csv\") as csv_file:\n",
    "        reader=csv.reader(csv_file,quotechar='\"',delimiter=',',\n",
    "                     quoting=csv.QUOTE_ALL, skipinitialspace=True)\n",
    "        next(reader)\n",
    "        for row in reader: \n",
    "            data.append(row)\n",
    "            \n",
    "data"
   ]
  },
  {
   "cell_type": "code",
   "execution_count": 3,
   "metadata": {
    "scrolled": true
   },
   "outputs": [
    {
     "name": "stdout",
     "output_type": "stream",
     "text": [
      "1 (0.19, 0.25)\n",
      "2 (0.62, 0.0)\n",
      "3 (0.0, 0.42)\n",
      "4 (0.38, 0.0)\n",
      "5 (0.0, 0.88)\n",
      "6 (0.17, 0.1)\n",
      "7 (0.23, 0.02)\n",
      "8 (0.33, 0.06)\n",
      "9 (0.1, 0.22)\n",
      "10 (0.1, 0.21)\n",
      "11 (0.07, 0.09)\n",
      "12 (0.28, 0.05)\n",
      "13 (0.15, 0.19)\n",
      "14 (0.06, 0.17)\n",
      "15 (0.3, 0.0)\n",
      "16 (0.14, 0.01)\n",
      "17 (0.05, 0.19)\n",
      "18 (0.23, 0.19)\n",
      "19 (0.21, 0.02)\n",
      "20 (0.27, 0.1)\n",
      "21 (0.05, 0.17)\n",
      "22 (0.11, 0.03)\n",
      "23 (0.09, 0.22)\n",
      "24 (0.22, 0.0)\n",
      "25 (0.05, 0.06)\n"
     ]
    }
   ],
   "source": [
    "for row in data:\n",
    "    print(row[0],word_score.get_tuple(row[1]))"
   ]
  },
  {
   "cell_type": "code",
   "execution_count": 11,
   "metadata": {
    "scrolled": true
   },
   "outputs": [],
   "source": [
    "c_mat={}\n",
    "def accuracy(c_mat):\n",
    "    accuracy=0\n",
    "    total=len(c_mat)\n",
    "    \n",
    "    for i in c_mat:\n",
    "        if c_mat[i]['expected']==c_mat[i]['predicted']:\n",
    "            accuracy+=1\n",
    "    return round(float(accuracy/total),2)\n",
    "\n",
    "def recall(c_mat):\n",
    "    recall=0\n",
    "    recall_list=[]\n",
    "    classes=set([row[2] for row in data[:size]])\n",
    "    for c in classes:\n",
    "        c_count=0\n",
    "        tp_count=0\n",
    "        for i in c_mat:\n",
    "            if c_mat[i]['expected']==c:\n",
    "                c_count+=1\n",
    "                if c_mat[i]['expected']==c_mat[i]['predicted']:\n",
    "                    tp_count+=1\n",
    "        #print(\"recall for \",c,\" :\",round(float(tp_count/c_count),2))\n",
    "        if c_count>0:\n",
    "            recall_list.append(round(float(tp_count/c_count),2))\n",
    "    recall=round(float(sum(recall_list)/len(recall_list)),2)\n",
    "    return recall\n",
    "\n",
    "def precision(c_mat):\n",
    "    precision=0\n",
    "    precision_list=[]\n",
    "    classes=set([row[2] for row in data[:size]])\n",
    "    for c in classes:\n",
    "        pred_count=0\n",
    "        tp_count=0\n",
    "        for i in c_mat:\n",
    "            if c_mat[i]['predicted']==c:\n",
    "                pred_count+=1\n",
    "                if c_mat[i]['expected']==c_mat[i]['predicted']:\n",
    "                    tp_count+=1\n",
    "        #print(\"precision for \",c,\" :\",round(float(tp_count/pred_count),2))\n",
    "        if pred_count>0:\n",
    "            precision_list.append(round(float(tp_count/pred_count),2))\n",
    "    precision=round(float(sum(precision_list)/len(precision_list)),2)\n",
    "    return precision\n",
    "                \n",
    "def analysis(algo):\n",
    "    print(\"in analysis\",size)\n",
    "    for row in data[:size]:\n",
    "        print(row)\n",
    "        key=int(row[0])\n",
    "        c_mat[key]={'expected':row[2],'predicted':None}\n",
    "        text=row[1]\n",
    "        score=word_score.get_tuple(text)\n",
    "        if algo=='knn':\n",
    "            \n",
    "            output=knn(4,score)\n",
    "            \n",
    "        elif algo=='nb':\n",
    "            \n",
    "            #print(score)\n",
    "            output=nb(score)\n",
    "            \n",
    "        c_mat[key]['predicted']=output\n",
    "    print(c_mat)\n",
    "    print(\"****\",algo,\"\\naccuracy:\",accuracy(c_mat),\"\\nrecall:\",recall(c_mat),\"\\nprecision:\",precision(c_mat))\n",
    "    \n",
    "    \n",
    "    "
   ]
  },
  {
   "cell_type": "code",
   "execution_count": null,
   "metadata": {
    "scrolled": true
   },
   "outputs": [],
   "source": []
  },
  {
   "cell_type": "code",
   "execution_count": 12,
   "metadata": {
    "scrolled": false
   },
   "outputs": [
    {
     "name": "stdout",
     "output_type": "stream",
     "text": [
      "2\n",
      "in analysis 2\n",
      "['1', 'It was somewhat good and bad', 'n']\n",
      "['2', 'it was good.', 'g']\n",
      "{1: {'expected': 'n', 'predicted': 'b'}, 2: {'expected': 'g', 'predicted': 'g'}}\n"
     ]
    },
    {
     "ename": "ZeroDivisionError",
     "evalue": "division by zero",
     "output_type": "error",
     "traceback": [
      "\u001b[0;31m---------------------------------------------------------------------------\u001b[0m",
      "\u001b[0;31mZeroDivisionError\u001b[0m                         Traceback (most recent call last)",
      "\u001b[0;32m<ipython-input-12-a244388203d1>\u001b[0m in \u001b[0;36m<module>\u001b[0;34m()\u001b[0m\n\u001b[1;32m      1\u001b[0m \u001b[0;32mfor\u001b[0m \u001b[0msize\u001b[0m \u001b[0;32min\u001b[0m \u001b[0mrange\u001b[0m\u001b[0;34m(\u001b[0m\u001b[0;36m2\u001b[0m\u001b[0;34m,\u001b[0m\u001b[0;36m26\u001b[0m\u001b[0;34m,\u001b[0m\u001b[0;36m2\u001b[0m\u001b[0;34m)\u001b[0m\u001b[0;34m:\u001b[0m\u001b[0;34m\u001b[0m\u001b[0m\n\u001b[1;32m      2\u001b[0m     \u001b[0mprint\u001b[0m\u001b[0;34m(\u001b[0m\u001b[0msize\u001b[0m\u001b[0;34m)\u001b[0m\u001b[0;34m\u001b[0m\u001b[0m\n\u001b[0;32m----> 3\u001b[0;31m     \u001b[0manalysis\u001b[0m\u001b[0;34m(\u001b[0m\u001b[0;34m'knn'\u001b[0m\u001b[0;34m)\u001b[0m\u001b[0;34m\u001b[0m\u001b[0m\n\u001b[0m\u001b[1;32m      4\u001b[0m     \u001b[0manalysis\u001b[0m\u001b[0;34m(\u001b[0m\u001b[0;34m'nb'\u001b[0m\u001b[0;34m)\u001b[0m\u001b[0;34m\u001b[0m\u001b[0m\n",
      "\u001b[0;32m<ipython-input-11-0f2e03d9e3c1>\u001b[0m in \u001b[0;36manalysis\u001b[0;34m(algo)\u001b[0m\n\u001b[1;32m     62\u001b[0m         \u001b[0mc_mat\u001b[0m\u001b[0;34m[\u001b[0m\u001b[0mkey\u001b[0m\u001b[0;34m]\u001b[0m\u001b[0;34m[\u001b[0m\u001b[0;34m'predicted'\u001b[0m\u001b[0;34m]\u001b[0m\u001b[0;34m=\u001b[0m\u001b[0moutput\u001b[0m\u001b[0;34m\u001b[0m\u001b[0m\n\u001b[1;32m     63\u001b[0m     \u001b[0mprint\u001b[0m\u001b[0;34m(\u001b[0m\u001b[0mc_mat\u001b[0m\u001b[0;34m)\u001b[0m\u001b[0;34m\u001b[0m\u001b[0m\n\u001b[0;32m---> 64\u001b[0;31m     \u001b[0mprint\u001b[0m\u001b[0;34m(\u001b[0m\u001b[0;34m\"****\"\u001b[0m\u001b[0;34m,\u001b[0m\u001b[0malgo\u001b[0m\u001b[0;34m,\u001b[0m\u001b[0;34m\"\\naccuracy:\"\u001b[0m\u001b[0;34m,\u001b[0m\u001b[0maccuracy\u001b[0m\u001b[0;34m(\u001b[0m\u001b[0mc_mat\u001b[0m\u001b[0;34m)\u001b[0m\u001b[0;34m,\u001b[0m\u001b[0;34m\"\\nrecall:\"\u001b[0m\u001b[0;34m,\u001b[0m\u001b[0mrecall\u001b[0m\u001b[0;34m(\u001b[0m\u001b[0mc_mat\u001b[0m\u001b[0;34m)\u001b[0m\u001b[0;34m,\u001b[0m\u001b[0;34m\"\\nprecision:\"\u001b[0m\u001b[0;34m,\u001b[0m\u001b[0mprecision\u001b[0m\u001b[0;34m(\u001b[0m\u001b[0mc_mat\u001b[0m\u001b[0;34m)\u001b[0m\u001b[0;34m)\u001b[0m\u001b[0;34m\u001b[0m\u001b[0m\n\u001b[0m\u001b[1;32m     65\u001b[0m \u001b[0;34m\u001b[0m\u001b[0m\n\u001b[1;32m     66\u001b[0m \u001b[0;34m\u001b[0m\u001b[0m\n",
      "\u001b[0;32m<ipython-input-11-0f2e03d9e3c1>\u001b[0m in \u001b[0;36mprecision\u001b[0;34m(c_mat)\u001b[0m\n\u001b[1;32m     39\u001b[0m                     \u001b[0mtp_count\u001b[0m\u001b[0;34m+=\u001b[0m\u001b[0;36m1\u001b[0m\u001b[0;34m\u001b[0m\u001b[0m\n\u001b[1;32m     40\u001b[0m         \u001b[0;31m#print(\"precision for \",c,\" :\",round(float(tp_count/pred_count),2))\u001b[0m\u001b[0;34m\u001b[0m\u001b[0;34m\u001b[0m\u001b[0m\n\u001b[0;32m---> 41\u001b[0;31m         \u001b[0mprecision_list\u001b[0m\u001b[0;34m.\u001b[0m\u001b[0mappend\u001b[0m\u001b[0;34m(\u001b[0m\u001b[0mround\u001b[0m\u001b[0;34m(\u001b[0m\u001b[0mfloat\u001b[0m\u001b[0;34m(\u001b[0m\u001b[0mtp_count\u001b[0m\u001b[0;34m/\u001b[0m\u001b[0mpred_count\u001b[0m\u001b[0;34m)\u001b[0m\u001b[0;34m,\u001b[0m\u001b[0;36m2\u001b[0m\u001b[0;34m)\u001b[0m\u001b[0;34m)\u001b[0m\u001b[0;34m\u001b[0m\u001b[0m\n\u001b[0m\u001b[1;32m     42\u001b[0m     \u001b[0mprecision\u001b[0m\u001b[0;34m=\u001b[0m\u001b[0mround\u001b[0m\u001b[0;34m(\u001b[0m\u001b[0mfloat\u001b[0m\u001b[0;34m(\u001b[0m\u001b[0msum\u001b[0m\u001b[0;34m(\u001b[0m\u001b[0mprecision_list\u001b[0m\u001b[0;34m)\u001b[0m\u001b[0;34m/\u001b[0m\u001b[0mlen\u001b[0m\u001b[0;34m(\u001b[0m\u001b[0mprecision_list\u001b[0m\u001b[0;34m)\u001b[0m\u001b[0;34m)\u001b[0m\u001b[0;34m,\u001b[0m\u001b[0;36m2\u001b[0m\u001b[0;34m)\u001b[0m\u001b[0;34m\u001b[0m\u001b[0m\n\u001b[1;32m     43\u001b[0m     \u001b[0;32mreturn\u001b[0m \u001b[0mprecision\u001b[0m\u001b[0;34m\u001b[0m\u001b[0m\n",
      "\u001b[0;31mZeroDivisionError\u001b[0m: division by zero"
     ]
    }
   ],
   "source": [
    "for size in range(2,26,2):\n",
    "    print(size)\n",
    "    analysis('knn')\n",
    "    analysis('nb')\n"
   ]
  },
  {
   "cell_type": "code",
   "execution_count": null,
   "metadata": {
    "scrolled": true
   },
   "outputs": [],
   "source": []
  },
  {
   "cell_type": "code",
   "execution_count": 6,
   "metadata": {
    "scrolled": true
   },
   "outputs": [
    {
     "name": "stdout",
     "output_type": "stream",
     "text": [
      "n n\n"
     ]
    }
   ],
   "source": [
    "score=(0.21, 0.25)\n",
    "print(knn(4,score),nb(score))"
   ]
  },
  {
   "cell_type": "code",
   "execution_count": 7,
   "metadata": {
    "scrolled": true
   },
   "outputs": [
    {
     "data": {
      "text/plain": [
       "(0.21, 0.25)"
      ]
     },
     "execution_count": 7,
     "metadata": {},
     "output_type": "execute_result"
    }
   ],
   "source": [
    "word_score.get_tuple(\"It was good and bad\")"
   ]
  },
  {
   "cell_type": "code",
   "execution_count": null,
   "metadata": {
    "scrolled": true
   },
   "outputs": [],
   "source": []
  }
 ],
 "metadata": {
  "kernelspec": {
   "display_name": "Python 3",
   "language": "python",
   "name": "python3"
  },
  "language_info": {
   "codemirror_mode": {
    "name": "ipython",
    "version": 3
   },
   "file_extension": ".py",
   "mimetype": "text/x-python",
   "name": "python",
   "nbconvert_exporter": "python",
   "pygments_lexer": "ipython3",
   "version": "3.6.5"
  }
 },
 "nbformat": 4,
 "nbformat_minor": 2
}
