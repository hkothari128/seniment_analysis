{
 "cells": [
  {
   "cell_type": "code",
   "execution_count": 8,
   "metadata": {},
   "outputs": [],
   "source": [
    "import csv\n",
    "data=[]\n",
    "\n",
    "with open(\"sentiword.csv\") as csv_file:\n",
    "\treader=csv.reader(csv_file)\n",
    "\tfor row in reader:\n",
    "\t\tdata.append(row)"
   ]
  },
  {
   "cell_type": "code",
   "execution_count": 3,
   "metadata": {},
   "outputs": [
    {
     "data": {
      "text/plain": [
       "[['POS', 'ID', 'PosScore', 'NegScore', 'SynsetTerms', 'Gloss'],\n",
       " ['a',\n",
       "  '00001740',\n",
       "  '0.125',\n",
       "  '0',\n",
       "  'able#1',\n",
       "  '(usually followed by `to\\') having the necessary means or skill or know-how or authority to do something; \"able to swim\"; \"she was able to program her computer\"; \"we were at last able to buy a car\"; \"able to get a grant for the project\"'],\n",
       " ['a',\n",
       "  '00002098',\n",
       "  '0',\n",
       "  '0.75',\n",
       "  'unable#1',\n",
       "  '(usually followed by `to\\') not having the necessary means or skill or know-how; \"unable to get to town without a car\"; \"unable to obtain funds\"'],\n",
       " ['a',\n",
       "  '00002312',\n",
       "  '0',\n",
       "  '0',\n",
       "  'dorsal#2 abaxial#1',\n",
       "  'facing away from the axis of an organ or organism; \"the abaxial surface of a leaf is the underside or side facing away from the stem\"'],\n",
       " ['a',\n",
       "  '00002527',\n",
       "  '0',\n",
       "  '0',\n",
       "  'ventral#2 adaxial#1',\n",
       "  'nearest to or facing toward the axis of an organ or organism; \"the upper side of a leaf is known as the adaxial surface\"']]"
      ]
     },
     "execution_count": 3,
     "metadata": {},
     "output_type": "execute_result"
    }
   ],
   "source": [
    "data[:5]\n"
   ]
  },
  {
   "cell_type": "code",
   "execution_count": 10,
   "metadata": {},
   "outputs": [
    {
     "name": "stdout",
     "output_type": "stream",
     "text": [
      "147303\n"
     ]
    }
   ],
   "source": [
    "dataset={}\n",
    "\n",
    "for row in data[1:]:\n",
    "    words=row[4].split(\"#\")\n",
    "    if(len(words)==2):\n",
    "        words=words[0:-1]\n",
    "    else:\n",
    "        for word in words:\n",
    "            if len(word.split(\" \"))>1:\n",
    "                words[words.index(word)]=word.split(\" \")[1]\n",
    "           \n",
    "        words=words[0:-1]\n",
    "    #print(words)\n",
    "    for word in words:\n",
    "        dataset[word]={'pos_score':row[2],'neg_score':row[3]}\n",
    "print(len(dataset))    "
   ]
  },
  {
   "cell_type": "code",
   "execution_count": 28,
   "metadata": {},
   "outputs": [],
   "source": [
    "import pickle\n",
    "\n",
    "with open(\"word_data.txt\", \"wb\") as myFile:\n",
    "    pickle.dump(dataset, myFile)"
   ]
  },
  {
   "cell_type": "code",
   "execution_count": null,
   "metadata": {},
   "outputs": [],
   "source": []
  },
  {
   "cell_type": "code",
   "execution_count": null,
   "metadata": {},
   "outputs": [],
   "source": []
  }
 ],
 "metadata": {
  "kernelspec": {
   "display_name": "Python 3",
   "language": "python",
   "name": "python3"
  },
  "language_info": {
   "codemirror_mode": {
    "name": "ipython",
    "version": 3
   },
   "file_extension": ".py",
   "mimetype": "text/x-python",
   "name": "python",
   "nbconvert_exporter": "python",
   "pygments_lexer": "ipython3",
   "version": "3.5.2+"
  }
 },
 "nbformat": 4,
 "nbformat_minor": 2
}
