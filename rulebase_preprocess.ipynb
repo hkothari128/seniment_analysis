{
 "cells": [
  {
   "cell_type": "code",
   "execution_count": 1,
   "metadata": {},
   "outputs": [
    {
     "data": {
      "text/plain": [
       "[['pos_score', 'neg_score', 'class'],\n",
       " ['0.25', '1.38', 'b'],\n",
       " ['0.25', '0.75', 'b'],\n",
       " ['0.25', '0.75', 'b'],\n",
       " ['0.0', '0.88', 'b'],\n",
       " ['0.25', '2.0', 'b'],\n",
       " ['1.5', '0.0', 'g'],\n",
       " ['1.25', '0.62', 'g'],\n",
       " ['1.12', '0.12', 'g'],\n",
       " ['1.62', '0.25', 'g'],\n",
       " ['1.0', '0.0', 'g'],\n",
       " ['3.0', '0.0', 'g'],\n",
       " ['0.38', '0.25', 'n'],\n",
       " ['0.38', '0.0', 'n'],\n",
       " ['0.38', '0.62', 'n'],\n",
       " ['0.0', '0.5', 'n'],\n",
       " ['0.62', '0.0', 'n']]"
      ]
     },
     "execution_count": 1,
     "metadata": {},
     "output_type": "execute_result"
    }
   ],
   "source": [
    "import csv\n",
    "rulebase=[]\n",
    "with open(\"rulebase.csv\") as csv_file:\n",
    "    reader=csv.reader(csv_file)\n",
    "    for row in reader:\n",
    "        rulebase.append(row)\n",
    "rulebase[:]"
   ]
  },
  {
   "cell_type": "code",
   "execution_count": 2,
   "metadata": {},
   "outputs": [
    {
     "data": {
      "text/plain": [
       "[['pos_score', 'neg_score', 'class'],\n",
       " [[0.0, 0.75], [1.0, 1.5], 'b'],\n",
       " [[0.0, 0.75], [0.5, 1.0], 'b'],\n",
       " [[0.0, 0.75], [0.5, 1.0], 'b'],\n",
       " [[0.0, 0.75], [0.5, 1.0], 'b'],\n",
       " [[0.0, 0.75], [1.5, 2.0], 'b'],\n",
       " [[1.5, 2.25], [0.0, 0.5], 'g'],\n",
       " [[0.75, 1.5], [0.5, 1.0], 'g'],\n",
       " [[0.75, 1.5], [0.0, 0.5], 'g'],\n",
       " [[1.5, 2.25], [0.0, 0.5], 'g'],\n",
       " [[0.75, 1.5], [0.0, 0.5], 'g'],\n",
       " [[2.25, 3.0], [0.0, 0.5], 'g'],\n",
       " [[0.0, 0.75], [0.0, 0.5], 'n'],\n",
       " [[0.0, 0.75], [0.0, 0.5], 'n'],\n",
       " [[0.0, 0.75], [0.5, 1.0], 'n'],\n",
       " [[0.0, 0.75], [0.5, 1.0], 'n'],\n",
       " [[0.0, 0.75], [0.0, 0.5], 'n']]"
      ]
     },
     "execution_count": 2,
     "metadata": {},
     "output_type": "execute_result"
    }
   ],
   "source": [
    "import copy\n",
    "new_rulebase=copy.deepcopy(rulebase)\n",
    "n_bins=4\n",
    "import pprint\n",
    "for column in range(len(rulebase[0])-1):\n",
    "    #print(column)\n",
    "    value_set=[row[column] for row in rulebase]\n",
    "    new_value_set=[value_set[0]]\n",
    "    value_set=value_set[1:]\n",
    "    \n",
    "    value_set=[float(value) for value in value_set]\n",
    "    #print(value_set)\n",
    "    max_val,min_val=max(value_set),min(value_set)\n",
    "    range_val=max_val-min_val\n",
    "    bin_size=float(range_val/n_bins)\n",
    "    bins={}\n",
    "    start=min_val\n",
    "    for i in range(n_bins):\n",
    "        bins[i+1]=[start,start+bin_size]\n",
    "        start+=bin_size\n",
    "    for row in range(len(value_set)):\n",
    "        value=value_set[row]\n",
    "        for i in bins:\n",
    "            if value>= bins[i][0] and value<=bins[i][1]:\n",
    "                new_rulebase[row+1][column]=bins[i]\n",
    "                new_value_set.append(bins[i])\n",
    "    #pprint.pprint(new_value_set)\n",
    "    #print(max_val,min_val)\n",
    "    #print(bins)\n",
    "new_rulebase[:]\n",
    "    "
   ]
  },
  {
   "cell_type": "code",
   "execution_count": 3,
   "metadata": {},
   "outputs": [],
   "source": [
    "with open (\"nominal_rulebase.csv\",\"w\") as csv_file:\n",
    "    writer=csv.writer(csv_file)\n",
    "    \n",
    "    for row in new_rulebase:\n",
    "        writer.writerow(row)"
   ]
  },
  {
   "cell_type": "code",
   "execution_count": null,
   "metadata": {},
   "outputs": [],
   "source": []
  }
 ],
 "metadata": {
  "kernelspec": {
   "display_name": "Python 3",
   "language": "python",
   "name": "python3"
  },
  "language_info": {
   "codemirror_mode": {
    "name": "ipython",
    "version": 3
   },
   "file_extension": ".py",
   "mimetype": "text/x-python",
   "name": "python",
   "nbconvert_exporter": "python",
   "pygments_lexer": "ipython3",
   "version": "3.6.5"
  }
 },
 "nbformat": 4,
 "nbformat_minor": 2
}
