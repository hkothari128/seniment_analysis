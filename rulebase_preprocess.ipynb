{
 "cells": [
  {
   "cell_type": "code",
   "execution_count": 86,
   "metadata": {},
   "outputs": [
    {
     "data": {
      "text/plain": [
       "[['pos_score', 'neg_score', 'ratio(pos/neg)', 'class'],\n",
       " ['0.5', '0.0', '5', 'n'],\n",
       " ['0.88', '0.0', '5', 'n'],\n",
       " ['1.0', '0.0', '5', 'n'],\n",
       " ['0.62', '0.0', '5', 'n'],\n",
       " ['1.62', '0.0', '5', 'n'],\n",
       " ['2.12', '0.25', '5', 'n'],\n",
       " ['3.12', '0.0', '5', 'n'],\n",
       " ['0.5', '0.25', '2.0', 'b'],\n",
       " ['0.62', '1.0', '2.0', 'b'],\n",
       " ['1.12', '0.62', '2.0', 'b'],\n",
       " ['1.38', '0.62', '3.0', 'b'],\n",
       " ['0.38', '0.75', '1.0', 'b'],\n",
       " ['0.0', '0.5', '0.0', 'b'],\n",
       " ['0.38', '0.75', '2.0', 'b'],\n",
       " ['0.0', '0.88', '0.0', 'b'],\n",
       " ['0.38', '2.0', '0.67', 'b']]"
      ]
     },
     "execution_count": 86,
     "metadata": {},
     "output_type": "execute_result"
    }
   ],
   "source": [
    "import csv\n",
    "rulebase=[]\n",
    "with open(\"rulebase.csv\") as csv_file:\n",
    "    reader=csv.reader(csv_file)\n",
    "    for row in reader:\n",
    "        rulebase.append(row)\n",
    "rulebase[:]"
   ]
  },
  {
   "cell_type": "code",
   "execution_count": 87,
   "metadata": {},
   "outputs": [
    {
     "data": {
      "text/plain": [
       "[['pos_score', 'neg_score', 'ratio(pos/neg)', 'class'],\n",
       " [[0.0, 0.78], [0.0, 0.5], [3.75, 5.0], 'n'],\n",
       " [[0.78, 1.56], [0.0, 0.5], [3.75, 5.0], 'n'],\n",
       " [[0.78, 1.56], [0.0, 0.5], [3.75, 5.0], 'n'],\n",
       " [[0.0, 0.78], [0.0, 0.5], [3.75, 5.0], 'n'],\n",
       " [[1.56, 2.34], [0.0, 0.5], [3.75, 5.0], 'n'],\n",
       " [[1.56, 2.34], [0.0, 0.5], [3.75, 5.0], 'n'],\n",
       " [[2.34, 3.12], [0.0, 0.5], [3.75, 5.0], 'n'],\n",
       " [[0.0, 0.78], [0.0, 0.5], [1.25, 2.5], 'b'],\n",
       " [[0.0, 0.78], [1.0, 1.5], [1.25, 2.5], 'b'],\n",
       " [[0.78, 1.56], [0.5, 1.0], [1.25, 2.5], 'b'],\n",
       " [[0.78, 1.56], [0.5, 1.0], [2.5, 3.75], 'b'],\n",
       " [[0.0, 0.78], [0.5, 1.0], [0.0, 1.25], 'b'],\n",
       " [[0.0, 0.78], [0.5, 1.0], [0.0, 1.25], 'b'],\n",
       " [[0.0, 0.78], [0.5, 1.0], [1.25, 2.5], 'b'],\n",
       " [[0.0, 0.78], [0.5, 1.0], [0.0, 1.25], 'b'],\n",
       " [[0.0, 0.78], [1.5, 2.0], [0.0, 1.25], 'b']]"
      ]
     },
     "execution_count": 87,
     "metadata": {},
     "output_type": "execute_result"
    }
   ],
   "source": [
    "import copy\n",
    "new_rulebase=copy.deepcopy(rulebase)\n",
    "n_bins=4\n",
    "import pprint\n",
    "for column in range(len(rulebase[0])-1):\n",
    "    #print(column)\n",
    "    value_set=[row[column] for row in rulebase]\n",
    "    new_value_set=[value_set[0]]\n",
    "    value_set=value_set[1:]\n",
    "    \n",
    "    value_set=[float(value) for value in value_set]\n",
    "    #print(value_set)\n",
    "    max_val,min_val=max(value_set),min(value_set)\n",
    "    range_val=max_val-min_val\n",
    "    bin_size=float(range_val/n_bins)\n",
    "    bins={}\n",
    "    start=min_val\n",
    "    for i in range(n_bins):\n",
    "        bins[i+1]=[start,start+bin_size]\n",
    "        start+=bin_size\n",
    "    for row in range(len(value_set)):\n",
    "        value=value_set[row]\n",
    "        for i in bins:\n",
    "            if value>= bins[i][0] and value<=bins[i][1]:\n",
    "                new_rulebase[row+1][column]=bins[i]\n",
    "                new_value_set.append(bins[i])\n",
    "    #pprint.pprint(new_value_set)\n",
    "    #print(max_val,min_val)\n",
    "    #print(bins)\n",
    "new_rulebase[:]\n",
    "    "
   ]
  },
  {
   "cell_type": "code",
   "execution_count": 88,
   "metadata": {},
   "outputs": [],
   "source": [
    "with open (\"nominal_rulebase.csv\",\"w\") as csv_file:\n",
    "    writer=csv.writer(csv_file)\n",
    "    \n",
    "    for row in new_rulebase:\n",
    "        writer.writerow(row)"
   ]
  },
  {
   "cell_type": "code",
   "execution_count": null,
   "metadata": {},
   "outputs": [],
   "source": []
  }
 ],
 "metadata": {
  "kernelspec": {
   "display_name": "Python 3",
   "language": "python",
   "name": "python3"
  },
  "language_info": {
   "codemirror_mode": {
    "name": "ipython",
    "version": 3
   },
   "file_extension": ".py",
   "mimetype": "text/x-python",
   "name": "python",
   "nbconvert_exporter": "python",
   "pygments_lexer": "ipython3",
   "version": "3.6.5"
  }
 },
 "nbformat": 4,
 "nbformat_minor": 2
}
