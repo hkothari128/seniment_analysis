{
 "cells": [
  {
   "cell_type": "code",
   "execution_count": 1,
   "metadata": {},
   "outputs": [
    {
     "name": "stdout",
     "output_type": "stream",
     "text": [
      "importing Jupyter notebook from knn.ipynb\n",
      "importing Jupyter notebook from naive_bayes.ipynb\n"
     ]
    },
    {
     "data": {
      "image/png": "[encoded data removed]",
      "text/plain": [
       "<Figure size 1080x720 with 1 Axes>"
      ]
     },
     "metadata": {},
     "output_type": "display_data"
    }
   ],
   "source": [
    "import import_ipynb\n",
    "import word_score\n",
    "from knn import *\n",
    "from naive_bayes import *\n",
    "analysis={}"
   ]
  },
  {
   "cell_type": "code",
   "execution_count": 2,
   "metadata": {},
   "outputs": [
    {
     "data": {
      "text/plain": [
       "[['1', 'It was very good', 'g'],\n",
       " ['2', 'it was okay.', 'n'],\n",
       " ['3', 'It was not good.', 'b'],\n",
       " ['4', 'It was perfect.', 'g'],\n",
       " ['5', 'It was better.', 'g'],\n",
       " ['6', ' uncool', 'b']]"
      ]
     },
     "execution_count": 2,
     "metadata": {},
     "output_type": "execute_result"
    }
   ],
   "source": [
    "import csv\n",
    "data=[]\n",
    "c_mat={}\n",
    "with open(\"test_set.csv\") as csv_file:\n",
    "        reader=csv.reader(csv_file)\n",
    "        next(reader)\n",
    "        for row in reader: \n",
    "            data.append(row)\n",
    "            \n",
    "data"
   ]
  },
  {
   "cell_type": "code",
   "execution_count": 3,
   "metadata": {},
   "outputs": [],
   "source": [
    "size=0\n",
    "def accuracy(c_mat):\n",
    "    accuracy=0\n",
    "    total=len(c_mat)\n",
    "    \n",
    "    for i in c_mat:\n",
    "        if c_mat[i]['expected']==c_mat[i]['predicted']:\n",
    "            accuracy+=1\n",
    "    return round(float(accuracy/total),2)\n",
    "\n",
    "def recall(c_mat):\n",
    "    recall=0\n",
    "    recall_list=[]\n",
    "    classes=set([row[2] for row in data[:size]])\n",
    "    for c in classes:\n",
    "        c_count=0\n",
    "        tp_count=0\n",
    "        for i in c_mat:\n",
    "            if c_mat[i]['expected']==c:\n",
    "                c_count+=1\n",
    "                if c_mat[i]['expected']==c_mat[i]['predicted']:\n",
    "                    tp_count+=1\n",
    "        print(\"recall for \",c,\" :\",round(float(tp_count/c_count),2))\n",
    "        recall_list.append(round(float(tp_count/c_count),2))\n",
    "    recall=round(float(sum(recall_list)/len(recall_list)),2)\n",
    "    return recall\n",
    "                \n",
    "def analysis(algo):\n",
    "    for row in data[:size]:\n",
    "        \n",
    "        key=int(row[0])\n",
    "        c_mat[key]={'expected':row[2],'predicted':None}\n",
    "        text=row[1]\n",
    "        score=word_score.get_tuple(text)\n",
    "        if algo=='knn':\n",
    "            output=knn(4,score)\n",
    "        elif algo=='nb':\n",
    "            output=nb(score)\n",
    "        c_mat[key]['predicted']=output\n",
    "    print(c_mat)\n",
    "    print(c_mat,accuracy(c_mat),recall(c_mat))\n",
    "    \n",
    "    \n",
    "    "
   ]
  },
  {
   "cell_type": "code",
   "execution_count": 4,
   "metadata": {},
   "outputs": [],
   "source": [
    "size=2"
   ]
  },
  {
   "cell_type": "code",
   "execution_count": 5,
   "metadata": {},
   "outputs": [
    {
     "name": "stdout",
     "output_type": "stream",
     "text": [
      "{1: {'expected': 'g', 'predicted': 'g'}, 2: {'expected': 'n', 'predicted': 'g'}}\n",
      "recall for  g  : 1.0\n",
      "recall for  n  : 0.0\n",
      "{1: {'expected': 'g', 'predicted': 'g'}, 2: {'expected': 'n', 'predicted': 'g'}} 0.5 0.5\n",
      "CPU times: user 0 ns, sys: 2.84 ms, total: 2.84 ms\n",
      "Wall time: 6.29 ms\n"
     ]
    }
   ],
   "source": [
    "%%time\n",
    "analysis(\"knn\")\n"
   ]
  },
  {
   "cell_type": "code",
   "execution_count": 6,
   "metadata": {},
   "outputs": [
    {
     "name": "stdout",
     "output_type": "stream",
     "text": [
      "{1: {'expected': 'g', 'predicted': 'n'}, 2: {'expected': 'n', 'predicted': 'n'}}\n",
      "recall for  g  : 0.0\n",
      "recall for  n  : 1.0\n",
      "{1: {'expected': 'g', 'predicted': 'n'}, 2: {'expected': 'n', 'predicted': 'n'}} 0.5 0.5\n",
      "CPU times: user 1.17 ms, sys: 687 µs, total: 1.86 ms\n",
      "Wall time: 2.28 ms\n"
     ]
    }
   ],
   "source": [
    "%%time\n",
    "analysis('nb')\n",
    "\n"
   ]
  },
  {
   "cell_type": "code",
   "execution_count": null,
   "metadata": {},
   "outputs": [],
   "source": []
  },
  {
   "cell_type": "code",
   "execution_count": null,
   "metadata": {},
   "outputs": [],
   "source": []
  },
  {
   "cell_type": "code",
   "execution_count": null,
   "metadata": {},
   "outputs": [],
   "source": []
  }
 ],
 "metadata": {
  "kernelspec": {
   "display_name": "Python 3",
   "language": "python",
   "name": "python3"
  },
  "language_info": {
   "codemirror_mode": {
    "name": "ipython",
    "version": 3
   },
   "file_extension": ".py",
   "mimetype": "text/x-python",
   "name": "python",
   "nbconvert_exporter": "python",
   "pygments_lexer": "ipython3",
   "version": "3.6.5"
  }
 },
 "nbformat": 4,
 "nbformat_minor": 2
}
