{
 "cells": [
  {
   "cell_type": "code",
   "execution_count": 1,
   "metadata": {
    "scrolled": true
   },
   "outputs": [
    {
     "name": "stdout",
     "output_type": "stream",
     "text": [
      "importing Jupyter notebook from knn.ipynb\n",
      "importing Jupyter notebook from naive_bayes.ipynb\n"
     ]
    },
    {
     "data": {
      "image/png": "[encoded data removed]",
      "text/plain": [
       "<Figure size 1080x720 with 1 Axes>"
      ]
     },
     "metadata": {},
     "output_type": "display_data"
    }
   ],
   "source": [
    "import import_ipynb\n",
    "import word_score\n",
    "from knn import *\n",
    "from naive_bayes import *\n",
    "analysis={}"
   ]
  },
  {
   "cell_type": "code",
   "execution_count": 2,
   "metadata": {
    "scrolled": true
   },
   "outputs": [
    {
     "data": {
      "text/plain": [
       "[['1', 'It was somewhat good and bad', 'n'],\n",
       " ['2', 'it was good.', 'g'],\n",
       " ['3', 'It was not good.', 'b'],\n",
       " ['4', 'It was perfect.', 'g'],\n",
       " ['5', 'uncool', 'b'],\n",
       " ['6',\n",
       "  'My concepts of the subject were solidified after taking this class.',\n",
       "  'n'],\n",
       " ['7', 'Superb class, will help very much in my future work.', 'n'],\n",
       " ['8', 'Teacher teaches well, but needs to communicate better', 'n'],\n",
       " ['9',\n",
       "  'Teacher is very lousy, doesn’t want to teach, doesn’t even show up to class most of the times.',\n",
       "  'b'],\n",
       " ['10', 'Assignments are too tedious making the course very stressful.', 'b'],\n",
       " ['11', 'Very few classes, therefore syllabus was not covered properly.', 'n'],\n",
       " ['12',\n",
       "  'Best class I’ve ever attended, teacher was very friendly and helpful. Overall excellent',\n",
       "  'g'],\n",
       " ['13',\n",
       "  'The assignments set by the teacher were very difficult and this decreased the class’s morale.',\n",
       "  'n'],\n",
       " ['14',\n",
       "  'Extremely difficult to focus in class, teacher makes everything boring and dull.',\n",
       "  'b'],\n",
       " ['15',\n",
       "  'The professor has been able to create a very positive learning atmosphere.',\n",
       "  'g'],\n",
       " ['16',\n",
       "  \"Very helpful professor, can approach him whenever needed, solves everyone's doubts.\",\n",
       "  'n'],\n",
       " ['17',\n",
       "  ' I am clueless about the subject, professor was not able to teach properly, and didn’t help in doubt clearance either.',\n",
       "  'b'],\n",
       " ['18',\n",
       "  'I really loved the class, it was exciting and I wanted more lectures, the professor was extremely brilliant.',\n",
       "  'g'],\n",
       " ['19',\n",
       "  'The presentations were very helpful, exceptional teaching by the professor.',\n",
       "  'g'],\n",
       " ['20',\n",
       "  'Definitely the best course I’ve taken this semester, the professor is really amazing and was dedicated to helping the students.',\n",
       "  'g'],\n",
       " ['21',\n",
       "  'Professor has no knowledge of subject, just reads out from presentations, I was not able to learn anything.',\n",
       "  'b'],\n",
       " ['22',\n",
       "  'Lectures are decent, but professor should make it more understandable by using more solved problems.',\n",
       "  'n'],\n",
       " ['23',\n",
       "  'I would not recommend this class, pretty uninformative, was not able to learn anything useful.',\n",
       "  'b'],\n",
       " ['24',\n",
       "  'Professor is one of the best in college, it was a great experience getting to work under him.',\n",
       "  'g'],\n",
       " ['25',\n",
       "  'Cool subject, great professor, this class was worth the time invested, I got to learn a lot of useful things.',\n",
       "  'n']]"
      ]
     },
     "execution_count": 2,
     "metadata": {},
     "output_type": "execute_result"
    }
   ],
   "source": [
    "import csv\n",
    "data=[]\n",
    "\n",
    "with open(\"test_set.csv\") as csv_file:\n",
    "        reader=csv.reader(csv_file,quotechar='\"',delimiter=',',\n",
    "                     quoting=csv.QUOTE_ALL, skipinitialspace=True)\n",
    "        next(reader)\n",
    "        for row in reader: \n",
    "            data.append(row)\n",
    "            \n",
    "data"
   ]
  },
  {
   "cell_type": "code",
   "execution_count": 3,
   "metadata": {
    "scrolled": true
   },
   "outputs": [
    {
     "name": "stdout",
     "output_type": "stream",
     "text": [
      "1 (0.19, 0.25)\n",
      "2 (0.62, 0.0)\n",
      "3 (0.0, 0.42)\n",
      "4 (0.38, 0.0)\n",
      "5 (0.0, 0.88)\n",
      "6 (0.17, 0.1)\n",
      "7 (0.23, 0.02)\n",
      "8 (0.33, 0.06)\n",
      "9 (0.1, 0.22)\n",
      "10 (0.1, 0.21)\n",
      "11 (0.07, 0.09)\n",
      "12 (0.28, 0.05)\n",
      "13 (0.15, 0.19)\n",
      "14 (0.06, 0.17)\n",
      "15 (0.3, 0.0)\n",
      "16 (0.14, 0.01)\n",
      "17 (0.05, 0.19)\n",
      "18 (0.23, 0.19)\n",
      "19 (0.21, 0.02)\n",
      "20 (0.27, 0.1)\n",
      "21 (0.05, 0.17)\n",
      "22 (0.11, 0.03)\n",
      "23 (0.09, 0.22)\n",
      "24 (0.22, 0.0)\n",
      "25 (0.05, 0.06)\n"
     ]
    }
   ],
   "source": [
    "for row in data:\n",
    "    print(row[0],word_score.get_tuple(row[1]))"
   ]
  },
  {
   "cell_type": "code",
   "execution_count": 11,
   "metadata": {
    "scrolled": true
   },
   "outputs": [],
   "source": [
    "c_mat={}\n",
    "def accuracy(c_mat):\n",
    "    accuracy=0\n",
    "    total=len(c_mat)\n",
    "    \n",
    "    for i in c_mat:\n",
    "        #print(c_mat[i]['expected'],c_mat[i]['predicted'])\n",
    "        if c_mat[i]['expected']==c_mat[i]['predicted']:\n",
    "            accuracy+=1\n",
    "    print(accuracy)\n",
    "    return round(float(accuracy/total),2)\n",
    "\n",
    "def recall(c_mat):\n",
    "    recall=0\n",
    "    recall_list=[]\n",
    "    classes=set([row[2] for row in data[:size]])\n",
    "    for c in classes:\n",
    "        c_count=0\n",
    "        tp_count=0\n",
    "        for i in c_mat:\n",
    "            if c_mat[i]['expected']==c:\n",
    "                c_count+=1\n",
    "                if c_mat[i]['expected']==c_mat[i]['predicted']:\n",
    "                    tp_count+=1\n",
    "        #print(\"recall for \",c,\" :\",round(float(tp_count/c_count),2))\n",
    "        if c_count>0:\n",
    "            recall_list.append(round(float(tp_count/c_count),2))\n",
    "    recall=round(float(sum(recall_list)/len(recall_list)),2)\n",
    "    return recall\n",
    "\n",
    "def precision(c_mat):\n",
    "    precision=0\n",
    "    precision_list=[]\n",
    "    classes=set([row[2] for row in data[:size]])\n",
    "    for c in classes:\n",
    "        pred_count=0\n",
    "        tp_count=0\n",
    "        for i in c_mat:\n",
    "            if c_mat[i]['predicted']==c:\n",
    "                pred_count+=1\n",
    "                if c_mat[i]['expected']==c_mat[i]['predicted']:\n",
    "                    tp_count+=1\n",
    "        #print(\"precision for \",c,\" :\",round(float(tp_count/pred_count),2))\n",
    "        if pred_count>0:\n",
    "            precision_list.append(round(float(tp_count/pred_count),2))\n",
    "    precision=round(float(sum(precision_list)/len(precision_list)),2)\n",
    "    return precision\n",
    "                \n",
    "def analysis(algo):\n",
    "    \n",
    "    for row in data[:size]:\n",
    "        \n",
    "        key=int(row[0])\n",
    "        c_mat[key]={'expected':row[2],'predicted':None}\n",
    "        text=row[1]\n",
    "        score=word_score.get_tuple(text)\n",
    "        if algo=='knn':\n",
    "            \n",
    "            output=knn(4,score)\n",
    "            \n",
    "        elif algo=='nb':\n",
    "            \n",
    "            #print(score)\n",
    "            output=nb(score)\n",
    "            \n",
    "        c_mat[key]['predicted']=output\n",
    "    #print(c_mat)\n",
    "    print(\"****\",algo,\"\\naccuracy:\",accuracy(c_mat),\"\\nrecall:\",recall(c_mat),\"\\nprecision:\",precision(c_mat))\n",
    "    \n",
    "    \n",
    "    "
   ]
  },
  {
   "cell_type": "code",
   "execution_count": 21,
   "metadata": {
    "scrolled": true
   },
   "outputs": [
    {
     "name": "stdout",
     "output_type": "stream",
     "text": [
      "[4, 3, 0]\n",
      "[1, 5, 1]\n",
      "[0, 1, 5]\n"
     ]
    }
   ],
   "source": [
    "import pprint\n",
    "def get_cm(algo):\n",
    "    cmat={'0':[0,0,0],'1':[0,0,0],'2':[0,0,0]}\n",
    "    targets=['g','n','b']\n",
    "    for row in data[:20]:\n",
    "        \n",
    "        #key=int(row[0])\n",
    "        expected=row[2]\n",
    "        key=str(targets.index(expected))\n",
    "        #print(expected,key)\n",
    "        #c_mat[key]={'expected':row[2],'predicted':None}\n",
    "        text=row[1]\n",
    "        score=word_score.get_tuple(text)\n",
    "        if algo=='knn':\n",
    "            \n",
    "            output=knn(4,score)\n",
    "            \n",
    "        elif algo=='nb':\n",
    "            \n",
    "            #print(score)\n",
    "            output=nb(score)\n",
    "            \n",
    "        predicted=output\n",
    "        cmat[key][targets.index(predicted)]+=1\n",
    "        #print(c_mat[key]['expected'],c_mat[key]['predicted'])\n",
    "        \n",
    "    #print(c,\"\\n\",tp,\"\\t\",fp,\"\\n\",fn,\"\\t\",tn,\"\\n\")\n",
    "    for i in cmat:\n",
    "        print(cmat[i])\n",
    "get_cm(\"knn\")\n"
   ]
  },
  {
   "cell_type": "code",
   "execution_count": 6,
   "metadata": {
    "scrolled": false
   },
   "outputs": [
    {
     "name": "stdout",
     "output_type": "stream",
     "text": [
      "2\n",
      "**** knn \n",
      "accuracy: 0.7 \n",
      "recall: 0.57 \n",
      "precision: 0.66\n",
      "**** nb \n",
      "accuracy: 0.75 \n",
      "recall: 0.65 \n",
      "precision: 0.68\n",
      "4\n",
      "**** knn \n",
      "accuracy: 0.7 \n",
      "recall: 0.71 \n",
      "precision: 0.72\n",
      "**** nb \n",
      "accuracy: 0.75 \n",
      "recall: 0.76 \n",
      "precision: 0.78\n",
      "6\n",
      "**** knn \n",
      "accuracy: 0.7 \n",
      "recall: 0.71 \n",
      "precision: 0.72\n",
      "**** nb \n",
      "accuracy: 0.75 \n",
      "recall: 0.76 \n",
      "precision: 0.78\n",
      "8\n",
      "**** knn \n",
      "accuracy: 0.7 \n",
      "recall: 0.71 \n",
      "precision: 0.72\n",
      "**** nb \n",
      "accuracy: 0.75 \n",
      "recall: 0.76 \n",
      "precision: 0.78\n",
      "10\n",
      "**** knn \n",
      "accuracy: 0.7 \n",
      "recall: 0.71 \n",
      "precision: 0.72\n",
      "**** nb \n",
      "accuracy: 0.75 \n",
      "recall: 0.76 \n",
      "precision: 0.78\n",
      "12\n",
      "**** knn \n",
      "accuracy: 0.75 \n",
      "recall: 0.76 \n",
      "precision: 0.76\n",
      "**** nb \n",
      "accuracy: 0.75 \n",
      "recall: 0.76 \n",
      "precision: 0.78\n",
      "14\n",
      "**** knn \n",
      "accuracy: 0.7 \n",
      "recall: 0.7 \n",
      "precision: 0.73\n",
      "**** nb \n",
      "accuracy: 0.75 \n",
      "recall: 0.76 \n",
      "precision: 0.78\n",
      "16\n",
      "**** knn \n",
      "accuracy: 0.7 \n",
      "recall: 0.7 \n",
      "precision: 0.73\n",
      "**** nb \n",
      "accuracy: 0.75 \n",
      "recall: 0.76 \n",
      "precision: 0.78\n",
      "18\n",
      "**** knn \n",
      "accuracy: 0.7 \n",
      "recall: 0.7 \n",
      "precision: 0.73\n",
      "**** nb \n",
      "accuracy: 0.75 \n",
      "recall: 0.76 \n",
      "precision: 0.78\n",
      "20\n",
      "**** knn \n",
      "accuracy: 0.7 \n",
      "recall: 0.7 \n",
      "precision: 0.73\n",
      "**** nb \n",
      "accuracy: 0.75 \n",
      "recall: 0.76 \n",
      "precision: 0.78\n"
     ]
    }
   ],
   "source": [
    "for size in range(2,21,2):\n",
    "    print(size)\n",
    "    analysis('knn')\n",
    "    analysis('nb')\n"
   ]
  },
  {
   "cell_type": "code",
   "execution_count": 12,
   "metadata": {
    "scrolled": true
   },
   "outputs": [
    {
     "name": "stdout",
     "output_type": "stream",
     "text": [
      "n b\n",
      "g g\n",
      "b b\n",
      "g g\n",
      "b b\n",
      "n n\n",
      "n n\n",
      "n g\n",
      "b b\n",
      "b b\n",
      "n n\n",
      "g g\n",
      "n n\n",
      "b n\n",
      "g g\n",
      "n n\n",
      "b b\n",
      "g n\n",
      "g n\n",
      "g n\n",
      "14\n",
      "**** knn \n",
      "accuracy: 0.7 \n",
      "recall: 0.7 \n",
      "precision: 0.73\n"
     ]
    }
   ],
   "source": [
    "size=20\n",
    "analysis(\"knn\")"
   ]
  },
  {
   "cell_type": "code",
   "execution_count": 7,
   "metadata": {
    "scrolled": true
   },
   "outputs": [
    {
     "name": "stdout",
     "output_type": "stream",
     "text": [
      "i: 0 value: [0.28, 0.42000000000000004] class: g hit: 6\n",
      "i: 0 value: [0.28, 0.42000000000000004] class: n hit: 0\n",
      "i: 0 value: [0.28, 0.42000000000000004] class: b hit: 0\n",
      "i: 0 value: [0.14, 0.28] class: g hit: 2\n",
      "i: 0 value: [0.14, 0.28] class: n hit: 11\n",
      "i: 0 value: [0.14, 0.28] class: b hit: 3\n",
      "i: 0 value: [0.42000000000000004, 0.56] class: g hit: 4\n",
      "i: 0 value: [0.42000000000000004, 0.56] class: n hit: 0\n",
      "i: 0 value: [0.42000000000000004, 0.56] class: b hit: 0\n",
      "i: 0 value: [0.0, 0.14] class: g hit: 0\n",
      "i: 0 value: [0.0, 0.14] class: n hit: 10\n",
      "i: 0 value: [0.0, 0.14] class: b hit: 14\n",
      "i: 1 value: [0.0, 0.125] class: g hit: 10\n",
      "i: 1 value: [0.0, 0.125] class: n hit: 17\n",
      "i: 1 value: [0.0, 0.125] class: b hit: 0\n",
      "i: 1 value: [0.125, 0.25] class: g hit: 2\n",
      "i: 1 value: [0.125, 0.25] class: n hit: 4\n",
      "i: 1 value: [0.125, 0.25] class: b hit: 4\n",
      "i: 1 value: [0.25, 0.375] class: g hit: 0\n",
      "i: 1 value: [0.25, 0.375] class: n hit: 0\n",
      "i: 1 value: [0.25, 0.375] class: b hit: 11\n",
      "i: 1 value: [0.375, 0.5] class: g hit: 0\n",
      "i: 1 value: [0.375, 0.5] class: n hit: 0\n",
      "i: 1 value: [0.375, 0.5] class: b hit: 2\n",
      "{0: {'[0.0, 0.14]': {'b': 0.82, 'g': 0.0, 'n': 0.48},\n",
      "     '[0.14, 0.28]': {'b': 0.18, 'g': 0.17, 'n': 0.52},\n",
      "     '[0.28, 0.42000000000000004]': {'b': 0.0, 'g': 0.5, 'n': 0.0},\n",
      "     '[0.42000000000000004, 0.56]': {'b': 0.0, 'g': 0.33, 'n': 0.0}},\n",
      " 1: {'[0.0, 0.125]': {'b': 0.0, 'g': 0.83, 'n': 0.81},\n",
      "     '[0.125, 0.25]': {'b': 0.24, 'g': 0.17, 'n': 0.19},\n",
      "     '[0.25, 0.375]': {'b': 0.65, 'g': 0.0, 'n': 0.0},\n",
      "     '[0.375, 0.5]': {'b': 0.12, 'g': 0.0, 'n': 0.0}}}\n",
      "n n\n"
     ]
    }
   ],
   "source": [
    "score=(0.21, 0.25)\n",
    "print(knn(4,score),nb(score))"
   ]
  },
  {
   "cell_type": "code",
   "execution_count": 8,
   "metadata": {
    "scrolled": true
   },
   "outputs": [
    {
     "data": {
      "text/plain": [
       "(0.21, 0.25)"
      ]
     },
     "execution_count": 8,
     "metadata": {},
     "output_type": "execute_result"
    }
   ],
   "source": [
    "word_score.get_tuple(\"It was good and bad\")"
   ]
  },
  {
   "cell_type": "code",
   "execution_count": null,
   "metadata": {
    "scrolled": true
   },
   "outputs": [],
   "source": []
  }
 ],
 "metadata": {
  "kernelspec": {
   "display_name": "Python 3",
   "language": "python",
   "name": "python3"
  },
  "language_info": {
   "codemirror_mode": {
    "name": "ipython",
    "version": 3
   },
   "file_extension": ".py",
   "mimetype": "text/x-python",
   "name": "python",
   "nbconvert_exporter": "python",
   "pygments_lexer": "ipython3",
   "version": "3.5.2"
  }
 },
 "nbformat": 4,
 "nbformat_minor": 2
}
